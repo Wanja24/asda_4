{
 "cells": [
  {
   "cell_type": "markdown",
   "metadata": {},
   "source": [
    "# Data inspection template"
   ]
  },
  {
   "cell_type": "markdown",
   "metadata": {},
   "source": [
    "## Import libraries"
   ]
  },
  {
   "cell_type": "code",
   "execution_count": null,
   "metadata": {},
   "outputs": [],
   "source": [
    "# import libraries\n",
    "import pandas as pd "
   ]
  },
  {
   "cell_type": "markdown",
   "metadata": {},
   "source": [
    "## Import data\n",
    "\n",
    "from url or from local  \n",
    "as Excel with multiple sheets or just one sheet"
   ]
  },
  {
   "cell_type": "code",
   "execution_count": null,
   "metadata": {},
   "outputs": [],
   "source": [
    "# TODO insert path\n",
    "# from Google Drive (must be visible for everyone and the part of the link after the last slash has to be replaced with export/format=xlsx)\n",
    "path = ''\n",
    "\n",
    "# import file\n",
    "excel = pd.ExcelFile(path)"
   ]
  },
  {
   "cell_type": "code",
   "execution_count": null,
   "metadata": {},
   "outputs": [
    {
     "data": {
      "text/html": [
       "<div>\n",
       "<style scoped>\n",
       "    .dataframe tbody tr th:only-of-type {\n",
       "        vertical-align: middle;\n",
       "    }\n",
       "\n",
       "    .dataframe tbody tr th {\n",
       "        vertical-align: top;\n",
       "    }\n",
       "\n",
       "    .dataframe thead th {\n",
       "        text-align: right;\n",
       "    }\n",
       "</style>\n",
       "<table border=\"1\" class=\"dataframe\">\n",
       "  <thead>\n",
       "    <tr style=\"text-align: right;\">\n",
       "      <th></th>\n",
       "      <th>Foodcode of Chinese Food Composition Table</th>\n",
       "      <th>Food item</th>\n",
       "      <th>Food sub-group</th>\n",
       "      <th>Food group</th>\n",
       "      <th>WU of 1 kg food as consumed \\n(m³/kg)</th>\n",
       "      <th>Data source</th>\n",
       "      <th>Language of journal</th>\n",
       "    </tr>\n",
       "  </thead>\n",
       "  <tbody>\n",
       "    <tr>\n",
       "      <th>0</th>\n",
       "      <td>11101</td>\n",
       "      <td>wheat</td>\n",
       "      <td>wheat</td>\n",
       "      <td>Cereals</td>\n",
       "      <td>0.046200</td>\n",
       "      <td>Zhang Y, Huang K, Ridoutt B G, et al. Comparin...</td>\n",
       "      <td>English</td>\n",
       "    </tr>\n",
       "    <tr>\n",
       "      <th>1</th>\n",
       "      <td>11101</td>\n",
       "      <td>wheat</td>\n",
       "      <td>wheat</td>\n",
       "      <td>Cereals</td>\n",
       "      <td>0.133980</td>\n",
       "      <td>Zhang Y, Huang K, Ridoutt B G, et al. Comparin...</td>\n",
       "      <td>English</td>\n",
       "    </tr>\n",
       "    <tr>\n",
       "      <th>2</th>\n",
       "      <td>11101</td>\n",
       "      <td>wheat</td>\n",
       "      <td>wheat</td>\n",
       "      <td>Cereals</td>\n",
       "      <td>0.151305</td>\n",
       "      <td>Zhang Y, Huang K, Ridoutt B G, et al. Comparin...</td>\n",
       "      <td>English</td>\n",
       "    </tr>\n",
       "    <tr>\n",
       "      <th>3</th>\n",
       "      <td>11101</td>\n",
       "      <td>wheat</td>\n",
       "      <td>wheat</td>\n",
       "      <td>Cereals</td>\n",
       "      <td>0.181335</td>\n",
       "      <td>灌区粮食生产水足迹的影响因素研究 \\nStudy on factors affecting ...</td>\n",
       "      <td>Chinese</td>\n",
       "    </tr>\n",
       "    <tr>\n",
       "      <th>4</th>\n",
       "      <td>11101</td>\n",
       "      <td>wheat</td>\n",
       "      <td>wheat</td>\n",
       "      <td>Cereals</td>\n",
       "      <td>0.202125</td>\n",
       "      <td>灌区粮食生产水足迹的影响因素研究 \\nStudy on factors affecting ...</td>\n",
       "      <td>Chinese</td>\n",
       "    </tr>\n",
       "  </tbody>\n",
       "</table>\n",
       "</div>"
      ],
      "text/plain": [
       "   Foodcode of Chinese Food Composition Table Food item Food sub-group  \\\n",
       "0                                       11101     wheat          wheat   \n",
       "1                                       11101     wheat          wheat   \n",
       "2                                       11101     wheat          wheat   \n",
       "3                                       11101     wheat          wheat   \n",
       "4                                       11101     wheat          wheat   \n",
       "\n",
       "  Food group  WU of 1 kg food as consumed \\n(m³/kg)  \\\n",
       "0    Cereals                               0.046200   \n",
       "1    Cereals                               0.133980   \n",
       "2    Cereals                               0.151305   \n",
       "3    Cereals                               0.181335   \n",
       "4    Cereals                               0.202125   \n",
       "\n",
       "                                         Data source Language of journal  \n",
       "0  Zhang Y, Huang K, Ridoutt B G, et al. Comparin...             English  \n",
       "1  Zhang Y, Huang K, Ridoutt B G, et al. Comparin...             English  \n",
       "2  Zhang Y, Huang K, Ridoutt B G, et al. Comparin...             English  \n",
       "3  灌区粮食生产水足迹的影响因素研究 \\nStudy on factors affecting ...             Chinese  \n",
       "4  灌区粮食生产水足迹的影响因素研究 \\nStudy on factors affecting ...             Chinese  "
      ]
     },
     "metadata": {},
     "output_type": "display_data"
    }
   ],
   "source": [
    "df = pd.read_excel('Chinese Food Life Cycle Assessment Database.xlsx', sheet_name = 'Water Use')"
   ]
  },
  {
   "cell_type": "code",
   "execution_count": null,
   "metadata": {},
   "outputs": [],
   "source": [
    "df.head()"
   ]
  },
  {
   "cell_type": "code",
   "execution_count": null,
   "metadata": {},
   "outputs": [
    {
     "name": "stdout",
     "output_type": "stream",
     "text": [
      "<class 'pandas.core.frame.DataFrame'>\n",
      "RangeIndex: 2027 entries, 0 to 2026\n",
      "Data columns (total 7 columns):\n",
      " #   Column                                      Non-Null Count  Dtype  \n",
      "---  ------                                      --------------  -----  \n",
      " 0   Foodcode of Chinese Food Composition Table  2027 non-null   int64  \n",
      " 1   Food item                                   2026 non-null   object \n",
      " 2   Food sub-group                              2027 non-null   object \n",
      " 3   Food group                                  2027 non-null   object \n",
      " 4   WU of 1 kg food as consumed \n",
      "(m³/kg)        2027 non-null   float64\n",
      " 5   Data source                                 2027 non-null   object \n",
      " 6   Language of journal                         942 non-null    object \n",
      "dtypes: float64(1), int64(1), object(5)\n",
      "memory usage: 111.0+ KB\n"
     ]
    }
   ],
   "source": [
    "df.info()"
   ]
  },
  {
   "cell_type": "code",
   "execution_count": null,
   "metadata": {},
   "outputs": [
    {
     "data": {
      "text/html": [
       "<div>\n",
       "<style scoped>\n",
       "    .dataframe tbody tr th:only-of-type {\n",
       "        vertical-align: middle;\n",
       "    }\n",
       "\n",
       "    .dataframe tbody tr th {\n",
       "        vertical-align: top;\n",
       "    }\n",
       "\n",
       "    .dataframe thead th {\n",
       "        text-align: right;\n",
       "    }\n",
       "</style>\n",
       "<table border=\"1\" class=\"dataframe\">\n",
       "  <thead>\n",
       "    <tr style=\"text-align: right;\">\n",
       "      <th></th>\n",
       "      <th>Foodcode of Chinese Food Composition Table</th>\n",
       "      <th>WU of 1 kg food as consumed \\n(m³/kg)</th>\n",
       "    </tr>\n",
       "  </thead>\n",
       "  <tbody>\n",
       "    <tr>\n",
       "      <th>count</th>\n",
       "      <td>2027.000000</td>\n",
       "      <td>2027.000000</td>\n",
       "    </tr>\n",
       "    <tr>\n",
       "      <th>mean</th>\n",
       "      <td>64529.190429</td>\n",
       "      <td>4.070812</td>\n",
       "    </tr>\n",
       "    <tr>\n",
       "      <th>std</th>\n",
       "      <td>50012.151100</td>\n",
       "      <td>5.589431</td>\n",
       "    </tr>\n",
       "    <tr>\n",
       "      <th>min</th>\n",
       "      <td>11101.000000</td>\n",
       "      <td>0.039030</td>\n",
       "    </tr>\n",
       "    <tr>\n",
       "      <th>25%</th>\n",
       "      <td>13101.000000</td>\n",
       "      <td>1.126823</td>\n",
       "    </tr>\n",
       "    <tr>\n",
       "      <th>50%</th>\n",
       "      <td>46010.000000</td>\n",
       "      <td>1.940402</td>\n",
       "    </tr>\n",
       "    <tr>\n",
       "      <th>75%</th>\n",
       "      <td>91114.500000</td>\n",
       "      <td>3.863250</td>\n",
       "    </tr>\n",
       "    <tr>\n",
       "      <th>max</th>\n",
       "      <td>192016.000000</td>\n",
       "      <td>37.033087</td>\n",
       "    </tr>\n",
       "  </tbody>\n",
       "</table>\n",
       "</div>"
      ],
      "text/plain": [
       "       Foodcode of Chinese Food Composition Table  \\\n",
       "count                                 2027.000000   \n",
       "mean                                 64529.190429   \n",
       "std                                  50012.151100   \n",
       "min                                  11101.000000   \n",
       "25%                                  13101.000000   \n",
       "50%                                  46010.000000   \n",
       "75%                                  91114.500000   \n",
       "max                                 192016.000000   \n",
       "\n",
       "       WU of 1 kg food as consumed \\n(m³/kg)  \n",
       "count                            2027.000000  \n",
       "mean                                4.070812  \n",
       "std                                 5.589431  \n",
       "min                                 0.039030  \n",
       "25%                                 1.126823  \n",
       "50%                                 1.940402  \n",
       "75%                                 3.863250  \n",
       "max                                37.033087  "
      ]
     },
     "metadata": {},
     "output_type": "display_data"
    }
   ],
   "source": [
    "df.describe()"
   ]
  },
  {
   "cell_type": "code",
   "execution_count": null,
   "metadata": {},
   "outputs": [
    {
     "data": {
      "text/plain": [
       "array(['Cereals', 'Tubers, starches', 'Legumes', 'Vegetables',\n",
       "       'Fast foods', 'Fungi and algae', 'Fruit', 'Nuts and seeds', 'Meat',\n",
       "       'Poultry', 'Dairy', 'Eggs', 'Aquatic products', 'Beverages',\n",
       "       'Liquor and alcohol', 'Sugars and preserves', 'fats and oils',\n",
       "       'Fats and oils'], dtype=object)"
      ]
     },
     "metadata": {},
     "output_type": "display_data"
    }
   ],
   "source": [
    "df['Food group'].unique()"
   ]
  },
  {
   "cell_type": "code",
   "execution_count": null,
   "metadata": {},
   "outputs": [
    {
     "data": {
      "text/html": [
       "<div>\n",
       "<style scoped>\n",
       "    .dataframe tbody tr th:only-of-type {\n",
       "        vertical-align: middle;\n",
       "    }\n",
       "\n",
       "    .dataframe tbody tr th {\n",
       "        vertical-align: top;\n",
       "    }\n",
       "\n",
       "    .dataframe thead th {\n",
       "        text-align: right;\n",
       "    }\n",
       "</style>\n",
       "<table border=\"1\" class=\"dataframe\">\n",
       "  <thead>\n",
       "    <tr style=\"text-align: right;\">\n",
       "      <th></th>\n",
       "      <th>Foodcode of Chinese Food Composition Table</th>\n",
       "      <th>Food item</th>\n",
       "      <th>Food sub-group</th>\n",
       "      <th>Food group</th>\n",
       "      <th>Water_use</th>\n",
       "      <th>Data source</th>\n",
       "      <th>Language of journal</th>\n",
       "    </tr>\n",
       "  </thead>\n",
       "  <tbody>\n",
       "    <tr>\n",
       "      <th>0</th>\n",
       "      <td>11101</td>\n",
       "      <td>wheat</td>\n",
       "      <td>wheat</td>\n",
       "      <td>Cereals</td>\n",
       "      <td>0.046200</td>\n",
       "      <td>Zhang Y, Huang K, Ridoutt B G, et al. Comparin...</td>\n",
       "      <td>English</td>\n",
       "    </tr>\n",
       "    <tr>\n",
       "      <th>1</th>\n",
       "      <td>11101</td>\n",
       "      <td>wheat</td>\n",
       "      <td>wheat</td>\n",
       "      <td>Cereals</td>\n",
       "      <td>0.133980</td>\n",
       "      <td>Zhang Y, Huang K, Ridoutt B G, et al. Comparin...</td>\n",
       "      <td>English</td>\n",
       "    </tr>\n",
       "    <tr>\n",
       "      <th>2</th>\n",
       "      <td>11101</td>\n",
       "      <td>wheat</td>\n",
       "      <td>wheat</td>\n",
       "      <td>Cereals</td>\n",
       "      <td>0.151305</td>\n",
       "      <td>Zhang Y, Huang K, Ridoutt B G, et al. Comparin...</td>\n",
       "      <td>English</td>\n",
       "    </tr>\n",
       "    <tr>\n",
       "      <th>3</th>\n",
       "      <td>11101</td>\n",
       "      <td>wheat</td>\n",
       "      <td>wheat</td>\n",
       "      <td>Cereals</td>\n",
       "      <td>0.181335</td>\n",
       "      <td>灌区粮食生产水足迹的影响因素研究 \\nStudy on factors affecting ...</td>\n",
       "      <td>Chinese</td>\n",
       "    </tr>\n",
       "    <tr>\n",
       "      <th>4</th>\n",
       "      <td>11101</td>\n",
       "      <td>wheat</td>\n",
       "      <td>wheat</td>\n",
       "      <td>Cereals</td>\n",
       "      <td>0.202125</td>\n",
       "      <td>灌区粮食生产水足迹的影响因素研究 \\nStudy on factors affecting ...</td>\n",
       "      <td>Chinese</td>\n",
       "    </tr>\n",
       "  </tbody>\n",
       "</table>\n",
       "</div>"
      ],
      "text/plain": [
       "   Foodcode of Chinese Food Composition Table Food item Food sub-group  \\\n",
       "0                                       11101     wheat          wheat   \n",
       "1                                       11101     wheat          wheat   \n",
       "2                                       11101     wheat          wheat   \n",
       "3                                       11101     wheat          wheat   \n",
       "4                                       11101     wheat          wheat   \n",
       "\n",
       "  Food group  Water_use                                        Data source  \\\n",
       "0    Cereals   0.046200  Zhang Y, Huang K, Ridoutt B G, et al. Comparin...   \n",
       "1    Cereals   0.133980  Zhang Y, Huang K, Ridoutt B G, et al. Comparin...   \n",
       "2    Cereals   0.151305  Zhang Y, Huang K, Ridoutt B G, et al. Comparin...   \n",
       "3    Cereals   0.181335  灌区粮食生产水足迹的影响因素研究 \\nStudy on factors affecting ...   \n",
       "4    Cereals   0.202125  灌区粮食生产水足迹的影响因素研究 \\nStudy on factors affecting ...   \n",
       "\n",
       "  Language of journal  \n",
       "0             English  \n",
       "1             English  \n",
       "2             English  \n",
       "3             Chinese  \n",
       "4             Chinese  "
      ]
     },
     "metadata": {},
     "output_type": "display_data"
    }
   ],
   "source": [
    "df.rename(columns={'WU of 1 kg food as consumed \\n(m³/kg)':'Water_use'}, inplace=True)\n",
    "df.head()"
   ]
  }
 ],
 "metadata": {
  "kernelspec": {
   "display_name": "kernel_asda",
   "language": "python",
   "name": "kernel_asda"
  },
  "language_info": {
   "name": "python",
   "version": "3.12.7"
  }
 },
 "nbformat": 4,
 "nbformat_minor": 2
}
