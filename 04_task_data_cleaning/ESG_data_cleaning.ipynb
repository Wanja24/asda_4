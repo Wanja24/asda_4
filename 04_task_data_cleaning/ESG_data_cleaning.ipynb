{
 "cells": [
  {
   "cell_type": "markdown",
   "metadata": {},
   "source": [
    "# ESG Scores Data Cleaning\n",
    "\n",
    "## 1. Data inspection"
   ]
  },
  {
   "cell_type": "code",
   "execution_count": 1,
   "metadata": {},
   "outputs": [],
   "source": [
    "# import libraries\n",
    "import pandas as pd\n",
    "import re"
   ]
  },
  {
   "cell_type": "code",
   "execution_count": 2,
   "metadata": {},
   "outputs": [],
   "source": [
    "# load data\n",
    "df = pd.read_csv('ESG Scores.txt', sep='\\t')"
   ]
  },
  {
   "cell_type": "code",
   "execution_count": 3,
   "metadata": {},
   "outputs": [
    {
     "data": {
      "text/html": [
       "<div>\n",
       "<style scoped>\n",
       "    .dataframe tbody tr th:only-of-type {\n",
       "        vertical-align: middle;\n",
       "    }\n",
       "\n",
       "    .dataframe tbody tr th {\n",
       "        vertical-align: top;\n",
       "    }\n",
       "\n",
       "    .dataframe thead th {\n",
       "        text-align: right;\n",
       "    }\n",
       "</style>\n",
       "<table border=\"1\" class=\"dataframe\">\n",
       "  <thead>\n",
       "    <tr style=\"text-align: right;\">\n",
       "      <th></th>\n",
       "      <th>RIC</th>\n",
       "      <th>Year</th>\n",
       "      <th>ESG Score</th>\n",
       "      <th>Environmental Pillar Score</th>\n",
       "      <th>Social Pillar Score</th>\n",
       "      <th>Governance Pillar Score</th>\n",
       "    </tr>\n",
       "  </thead>\n",
       "  <tbody>\n",
       "    <tr>\n",
       "      <th>0</th>\n",
       "      <td>1COV.DE</td>\n",
       "      <td>12/31/2015</td>\n",
       "      <td>52.44994215</td>\n",
       "      <td>58.93181287</td>\n",
       "      <td>47.27886179</td>\n",
       "      <td>49.760746</td>\n",
       "    </tr>\n",
       "    <tr>\n",
       "      <th>1</th>\n",
       "      <td>1COV.DE</td>\n",
       "      <td>12/31/2016</td>\n",
       "      <td>66.40156532</td>\n",
       "      <td>70.25422296</td>\n",
       "      <td>68.00431533</td>\n",
       "      <td>56.879433</td>\n",
       "    </tr>\n",
       "    <tr>\n",
       "      <th>2</th>\n",
       "      <td>1COV.DE</td>\n",
       "      <td>12/31/2017</td>\n",
       "      <td>68.92980708</td>\n",
       "      <td>68.5188051</td>\n",
       "      <td>74.68608474</td>\n",
       "      <td>59.902218</td>\n",
       "    </tr>\n",
       "    <tr>\n",
       "      <th>3</th>\n",
       "      <td>1COV.DE</td>\n",
       "      <td>12/31/2018</td>\n",
       "      <td>73.81273346</td>\n",
       "      <td>72.90604674</td>\n",
       "      <td>74.88865943</td>\n",
       "      <td>73.591450</td>\n",
       "    </tr>\n",
       "    <tr>\n",
       "      <th>4</th>\n",
       "      <td>1COV.DE</td>\n",
       "      <td>12/31/2019</td>\n",
       "      <td>74.88870359</td>\n",
       "      <td>69.74853631</td>\n",
       "      <td>72.42356247</td>\n",
       "      <td>88.146710</td>\n",
       "    </tr>\n",
       "    <tr>\n",
       "      <th>5</th>\n",
       "      <td>1COV.DE</td>\n",
       "      <td>12/31/2020</td>\n",
       "      <td>76.32960333</td>\n",
       "      <td>74.07848625</td>\n",
       "      <td>70.39162615</td>\n",
       "      <td>90.368149</td>\n",
       "    </tr>\n",
       "    <tr>\n",
       "      <th>6</th>\n",
       "      <td>1COV.DE</td>\n",
       "      <td>12/31/2021</td>\n",
       "      <td>75.82485143</td>\n",
       "      <td>75.30081329</td>\n",
       "      <td>72.189525</td>\n",
       "      <td>82.910511</td>\n",
       "    </tr>\n",
       "    <tr>\n",
       "      <th>7</th>\n",
       "      <td>1COV.</td>\n",
       "      <td>12/31/2022</td>\n",
       "      <td>81.24769221</td>\n",
       "      <td>82.50352674</td>\n",
       "      <td>73.7288222</td>\n",
       "      <td>91.769359</td>\n",
       "    </tr>\n",
       "    <tr>\n",
       "      <th>8</th>\n",
       "      <td>1COV.DE</td>\n",
       "      <td>12/31/2023</td>\n",
       "      <td>71.4575025</td>\n",
       "      <td>63.99739649</td>\n",
       "      <td>70.488781</td>\n",
       "      <td>86.278468</td>\n",
       "    </tr>\n",
       "    <tr>\n",
       "      <th>9</th>\n",
       "      <td>1U1.DE</td>\n",
       "      <td>12/31/2017</td>\n",
       "      <td>24.55020667</td>\n",
       "      <td>46.34944526</td>\n",
       "      <td>24.33128266</td>\n",
       "      <td>8.276521</td>\n",
       "    </tr>\n",
       "    <tr>\n",
       "      <th>10</th>\n",
       "      <td>1U1.DE</td>\n",
       "      <td>12/31/2018</td>\n",
       "      <td>39.09142473</td>\n",
       "      <td>49.20545841</td>\n",
       "      <td>39.53502319</td>\n",
       "      <td>30.447671</td>\n",
       "    </tr>\n",
       "    <tr>\n",
       "      <th>11</th>\n",
       "      <td>1U1.DE</td>\n",
       "      <td>12/31/2019</td>\n",
       "      <td>34.88469637</td>\n",
       "      <td>39.25456901</td>\n",
       "      <td>37.76029209</td>\n",
       "      <td>25.767294</td>\n",
       "    </tr>\n",
       "    <tr>\n",
       "      <th>12</th>\n",
       "      <td>.DE</td>\n",
       "      <td>12/31/2020</td>\n",
       "      <td>42.2837683</td>\n",
       "      <td>45.01251043</td>\n",
       "      <td>46.55546662</td>\n",
       "      <td>31.624604</td>\n",
       "    </tr>\n",
       "    <tr>\n",
       "      <th>13</th>\n",
       "      <td>1U1.DE</td>\n",
       "      <td>12/31/2021</td>\n",
       "      <td>57.49020034</td>\n",
       "      <td>43.29616639</td>\n",
       "      <td>69.81604552</td>\n",
       "      <td>43.652126</td>\n",
       "    </tr>\n",
       "    <tr>\n",
       "      <th>14</th>\n",
       "      <td>1U1.DE</td>\n",
       "      <td>12/31/2022</td>\n",
       "      <td>68.1036515</td>\n",
       "      <td>49.75833055</td>\n",
       "      <td>74.67773081</td>\n",
       "      <td>68.983716</td>\n",
       "    </tr>\n",
       "    <tr>\n",
       "      <th>15</th>\n",
       "      <td>8TRA.DE</td>\n",
       "      <td>Tuesday, December 31, 2019</td>\n",
       "      <td>25.62498945</td>\n",
       "      <td>31.99037548</td>\n",
       "      <td>26.39936394</td>\n",
       "      <td>16.971235</td>\n",
       "    </tr>\n",
       "    <tr>\n",
       "      <th>16</th>\n",
       "      <td>8TRA.DE</td>\n",
       "      <td>12/31/2020</td>\n",
       "      <td>30.28771511</td>\n",
       "      <td>29.52954813</td>\n",
       "      <td>25.30222295</td>\n",
       "      <td>37.734050</td>\n",
       "    </tr>\n",
       "    <tr>\n",
       "      <th>17</th>\n",
       "      <td>8TRA.DE</td>\n",
       "      <td>12/31/2021</td>\n",
       "      <td>44.36130463</td>\n",
       "      <td>37.25069202</td>\n",
       "      <td>51.09328672</td>\n",
       "      <td>44.067663</td>\n",
       "    </tr>\n",
       "    <tr>\n",
       "      <th>18</th>\n",
       "      <td>8TRA.DE</td>\n",
       "      <td>12/31/2022</td>\n",
       "      <td>44.75378085</td>\n",
       "      <td>39.07101305</td>\n",
       "      <td>47.41300567</td>\n",
       "      <td>48.086563</td>\n",
       "    </tr>\n",
       "    <tr>\n",
       "      <th>19</th>\n",
       "      <td>ADSGn.DE</td>\n",
       "      <td>12/31/2010</td>\n",
       "      <td>87.24126893</td>\n",
       "      <td>87.35043253</td>\n",
       "      <td>87.46547382</td>\n",
       "      <td>86.757353</td>\n",
       "    </tr>\n",
       "  </tbody>\n",
       "</table>\n",
       "</div>"
      ],
      "text/plain": [
       "         RIC                        Year    ESG Score  \\\n",
       "0    1COV.DE                  12/31/2015  52.44994215   \n",
       "1    1COV.DE                  12/31/2016  66.40156532   \n",
       "2    1COV.DE                  12/31/2017  68.92980708   \n",
       "3    1COV.DE                  12/31/2018  73.81273346   \n",
       "4    1COV.DE                  12/31/2019  74.88870359   \n",
       "5    1COV.DE                  12/31/2020  76.32960333   \n",
       "6    1COV.DE                  12/31/2021  75.82485143   \n",
       "7      1COV.                  12/31/2022  81.24769221   \n",
       "8    1COV.DE                  12/31/2023   71.4575025   \n",
       "9     1U1.DE                  12/31/2017  24.55020667   \n",
       "10    1U1.DE                  12/31/2018  39.09142473   \n",
       "11    1U1.DE                  12/31/2019  34.88469637   \n",
       "12       .DE                  12/31/2020   42.2837683   \n",
       "13    1U1.DE                  12/31/2021  57.49020034   \n",
       "14    1U1.DE                  12/31/2022   68.1036515   \n",
       "15   8TRA.DE  Tuesday, December 31, 2019  25.62498945   \n",
       "16   8TRA.DE                  12/31/2020  30.28771511   \n",
       "17   8TRA.DE                  12/31/2021  44.36130463   \n",
       "18   8TRA.DE                  12/31/2022  44.75378085   \n",
       "19  ADSGn.DE                  12/31/2010  87.24126893   \n",
       "\n",
       "   Environmental Pillar Score Social Pillar Score  Governance Pillar Score  \n",
       "0                 58.93181287         47.27886179                49.760746  \n",
       "1                 70.25422296         68.00431533                56.879433  \n",
       "2                  68.5188051         74.68608474                59.902218  \n",
       "3                 72.90604674         74.88865943                73.591450  \n",
       "4                 69.74853631         72.42356247                88.146710  \n",
       "5                 74.07848625         70.39162615                90.368149  \n",
       "6                 75.30081329           72.189525                82.910511  \n",
       "7                 82.50352674          73.7288222                91.769359  \n",
       "8                 63.99739649           70.488781                86.278468  \n",
       "9                 46.34944526         24.33128266                 8.276521  \n",
       "10                49.20545841         39.53502319                30.447671  \n",
       "11                39.25456901         37.76029209                25.767294  \n",
       "12                45.01251043         46.55546662                31.624604  \n",
       "13                43.29616639         69.81604552                43.652126  \n",
       "14                49.75833055         74.67773081                68.983716  \n",
       "15                31.99037548         26.39936394                16.971235  \n",
       "16                29.52954813         25.30222295                37.734050  \n",
       "17                37.25069202         51.09328672                44.067663  \n",
       "18                39.07101305         47.41300567                48.086563  \n",
       "19                87.35043253         87.46547382                86.757353  "
      ]
     },
     "execution_count": 3,
     "metadata": {},
     "output_type": "execute_result"
    }
   ],
   "source": [
    "# show first 20 rows\n",
    "df.head(20)"
   ]
  },
  {
   "cell_type": "markdown",
   "metadata": {},
   "source": [
    "Here, we can already see a few errors:\n",
    "- 1COV. in the RIC column\n",
    "- .DE in the RIC column\n",
    "- Tuesday, December 31, 2019 in the Year column\n",
    "- the column is called Year, but contains full dates. But the month and day seem to be always the same?"
   ]
  },
  {
   "cell_type": "code",
   "execution_count": 4,
   "metadata": {},
   "outputs": [
    {
     "data": {
      "text/plain": [
       "(973, 6)"
      ]
     },
     "execution_count": 4,
     "metadata": {},
     "output_type": "execute_result"
    }
   ],
   "source": [
    "# check number of rows and columns\n",
    "df.shape"
   ]
  },
  {
   "cell_type": "code",
   "execution_count": 5,
   "metadata": {},
   "outputs": [
    {
     "name": "stdout",
     "output_type": "stream",
     "text": [
      "<class 'pandas.core.frame.DataFrame'>\n",
      "RangeIndex: 973 entries, 0 to 972\n",
      "Data columns (total 6 columns):\n",
      " #   Column                      Non-Null Count  Dtype  \n",
      "---  ------                      --------------  -----  \n",
      " 0   RIC                         972 non-null    object \n",
      " 1   Year                        970 non-null    object \n",
      " 2   ESG Score                   970 non-null    object \n",
      " 3   Environmental Pillar Score  970 non-null    object \n",
      " 4   Social Pillar Score         970 non-null    object \n",
      " 5   Governance Pillar Score     970 non-null    float64\n",
      "dtypes: float64(1), object(5)\n",
      "memory usage: 45.7+ KB\n"
     ]
    }
   ],
   "source": [
    "# check data types and missing values\n",
    "df.info()"
   ]
  },
  {
   "cell_type": "markdown",
   "metadata": {},
   "source": [
    "More errors spotted:\n",
    "- There seem to be missing values.\n",
    "- The data types of columns 1-4 are incorrect."
   ]
  },
  {
   "cell_type": "code",
   "execution_count": 6,
   "metadata": {},
   "outputs": [
    {
     "data": {
      "text/html": [
       "<div>\n",
       "<style scoped>\n",
       "    .dataframe tbody tr th:only-of-type {\n",
       "        vertical-align: middle;\n",
       "    }\n",
       "\n",
       "    .dataframe tbody tr th {\n",
       "        vertical-align: top;\n",
       "    }\n",
       "\n",
       "    .dataframe thead th {\n",
       "        text-align: right;\n",
       "    }\n",
       "</style>\n",
       "<table border=\"1\" class=\"dataframe\">\n",
       "  <thead>\n",
       "    <tr style=\"text-align: right;\">\n",
       "      <th></th>\n",
       "      <th>Governance Pillar Score</th>\n",
       "    </tr>\n",
       "  </thead>\n",
       "  <tbody>\n",
       "    <tr>\n",
       "      <th>count</th>\n",
       "      <td>970.000000</td>\n",
       "    </tr>\n",
       "    <tr>\n",
       "      <th>mean</th>\n",
       "      <td>60.456328</td>\n",
       "    </tr>\n",
       "    <tr>\n",
       "      <th>std</th>\n",
       "      <td>21.300828</td>\n",
       "    </tr>\n",
       "    <tr>\n",
       "      <th>min</th>\n",
       "      <td>4.739667</td>\n",
       "    </tr>\n",
       "    <tr>\n",
       "      <th>25%</th>\n",
       "      <td>44.872180</td>\n",
       "    </tr>\n",
       "    <tr>\n",
       "      <th>50%</th>\n",
       "      <td>64.133126</td>\n",
       "    </tr>\n",
       "    <tr>\n",
       "      <th>75%</th>\n",
       "      <td>77.946685</td>\n",
       "    </tr>\n",
       "    <tr>\n",
       "      <th>max</th>\n",
       "      <td>97.324671</td>\n",
       "    </tr>\n",
       "  </tbody>\n",
       "</table>\n",
       "</div>"
      ],
      "text/plain": [
       "       Governance Pillar Score\n",
       "count               970.000000\n",
       "mean                 60.456328\n",
       "std                  21.300828\n",
       "min                   4.739667\n",
       "25%                  44.872180\n",
       "50%                  64.133126\n",
       "75%                  77.946685\n",
       "max                  97.324671"
      ]
     },
     "execution_count": 6,
     "metadata": {},
     "output_type": "execute_result"
    }
   ],
   "source": [
    "# show summary statistics to find outliers/errors\n",
    "df.describe()"
   ]
  },
  {
   "cell_type": "markdown",
   "metadata": {},
   "source": [
    "Have to check the summary statistics later again after fixing the data types."
   ]
  },
  {
   "cell_type": "markdown",
   "metadata": {},
   "source": [
    "## 2. Dealing with missing values"
   ]
  },
  {
   "cell_type": "code",
   "execution_count": 7,
   "metadata": {},
   "outputs": [
    {
     "data": {
      "text/plain": [
       "RIC                           1\n",
       "Year                          3\n",
       "ESG Score                     3\n",
       "Environmental Pillar Score    3\n",
       "Social Pillar Score           3\n",
       "Governance Pillar Score       3\n",
       "dtype: int64"
      ]
     },
     "execution_count": 7,
     "metadata": {},
     "output_type": "execute_result"
    }
   ],
   "source": [
    "# show missing values per column\n",
    "df.isna().sum()"
   ]
  },
  {
   "cell_type": "code",
   "execution_count": 8,
   "metadata": {},
   "outputs": [
    {
     "data": {
      "text/html": [
       "<div>\n",
       "<style scoped>\n",
       "    .dataframe tbody tr th:only-of-type {\n",
       "        vertical-align: middle;\n",
       "    }\n",
       "\n",
       "    .dataframe tbody tr th {\n",
       "        vertical-align: top;\n",
       "    }\n",
       "\n",
       "    .dataframe thead th {\n",
       "        text-align: right;\n",
       "    }\n",
       "</style>\n",
       "<table border=\"1\" class=\"dataframe\">\n",
       "  <thead>\n",
       "    <tr style=\"text-align: right;\">\n",
       "      <th></th>\n",
       "      <th>RIC</th>\n",
       "      <th>Year</th>\n",
       "      <th>ESG Score</th>\n",
       "      <th>Environmental Pillar Score</th>\n",
       "      <th>Social Pillar Score</th>\n",
       "      <th>Governance Pillar Score</th>\n",
       "    </tr>\n",
       "  </thead>\n",
       "  <tbody>\n",
       "    <tr>\n",
       "      <th>80</th>\n",
       "      <td>AOFG.DE</td>\n",
       "      <td>NaN</td>\n",
       "      <td>NaN</td>\n",
       "      <td>NaN</td>\n",
       "      <td>NaN</td>\n",
       "      <td>NaN</td>\n",
       "    </tr>\n",
       "    <tr>\n",
       "      <th>281</th>\n",
       "      <td>EKTG.DE</td>\n",
       "      <td>NaN</td>\n",
       "      <td>NaN</td>\n",
       "      <td>NaN</td>\n",
       "      <td>NaN</td>\n",
       "      <td>NaN</td>\n",
       "    </tr>\n",
       "    <tr>\n",
       "      <th>685</th>\n",
       "      <td>P911_p.DE</td>\n",
       "      <td>NaN</td>\n",
       "      <td>NaN</td>\n",
       "      <td>NaN</td>\n",
       "      <td>NaN</td>\n",
       "      <td>NaN</td>\n",
       "    </tr>\n",
       "  </tbody>\n",
       "</table>\n",
       "</div>"
      ],
      "text/plain": [
       "           RIC Year ESG Score Environmental Pillar Score Social Pillar Score  \\\n",
       "80     AOFG.DE  NaN       NaN                        NaN                 NaN   \n",
       "281    EKTG.DE  NaN       NaN                        NaN                 NaN   \n",
       "685  P911_p.DE  NaN       NaN                        NaN                 NaN   \n",
       "\n",
       "     Governance Pillar Score  \n",
       "80                       NaN  \n",
       "281                      NaN  \n",
       "685                      NaN  "
      ]
     },
     "execution_count": 8,
     "metadata": {},
     "output_type": "execute_result"
    }
   ],
   "source": [
    "# show the columns with missing values in the year column\n",
    "df.loc[df['Year'].isna()]"
   ]
  },
  {
   "cell_type": "markdown",
   "metadata": {},
   "source": [
    "We seem to have 3 rows with missing values for all columns (except RIC).\n",
    "And 1 row with a missing value in the RIC column.\n",
    "\n",
    "Since we do not know which values there should be in the 3 rows, we drop these. We can deal with the missing value in RIC column later when looking at that column specifically. Maybe there are hints what should be in the column, so that we can put in the correct value and do not have to drop the whole row."
   ]
  },
  {
   "cell_type": "code",
   "execution_count": 9,
   "metadata": {},
   "outputs": [
    {
     "name": "stdout",
     "output_type": "stream",
     "text": [
      "RIC                           1\n",
      "Year                          0\n",
      "ESG Score                     0\n",
      "Environmental Pillar Score    0\n",
      "Social Pillar Score           0\n",
      "Governance Pillar Score       0\n",
      "dtype: int64\n"
     ]
    },
    {
     "data": {
      "text/html": [
       "<div>\n",
       "<style scoped>\n",
       "    .dataframe tbody tr th:only-of-type {\n",
       "        vertical-align: middle;\n",
       "    }\n",
       "\n",
       "    .dataframe tbody tr th {\n",
       "        vertical-align: top;\n",
       "    }\n",
       "\n",
       "    .dataframe thead th {\n",
       "        text-align: right;\n",
       "    }\n",
       "</style>\n",
       "<table border=\"1\" class=\"dataframe\">\n",
       "  <thead>\n",
       "    <tr style=\"text-align: right;\">\n",
       "      <th></th>\n",
       "      <th>RIC</th>\n",
       "      <th>Year</th>\n",
       "      <th>ESG Score</th>\n",
       "      <th>Environmental Pillar Score</th>\n",
       "      <th>Social Pillar Score</th>\n",
       "      <th>Governance Pillar Score</th>\n",
       "    </tr>\n",
       "  </thead>\n",
       "  <tbody>\n",
       "  </tbody>\n",
       "</table>\n",
       "</div>"
      ],
      "text/plain": [
       "Empty DataFrame\n",
       "Columns: [RIC, Year, ESG Score, Environmental Pillar Score, Social Pillar Score, Governance Pillar Score]\n",
       "Index: []"
      ]
     },
     "execution_count": 9,
     "metadata": {},
     "output_type": "execute_result"
    }
   ],
   "source": [
    "# drop rows with missing values in the Year column\n",
    "df.dropna(subset='Year', inplace=True)\n",
    "\n",
    "# check if missing values are gone\n",
    "print(df.isna().sum())\n",
    "df.loc[df['Year'].isna()]"
   ]
  },
  {
   "cell_type": "markdown",
   "metadata": {},
   "source": [
    "## 3. Fixing errors in the RIC column"
   ]
  },
  {
   "cell_type": "code",
   "execution_count": 10,
   "metadata": {},
   "outputs": [
    {
     "data": {
      "text/html": [
       "<div>\n",
       "<style scoped>\n",
       "    .dataframe tbody tr th:only-of-type {\n",
       "        vertical-align: middle;\n",
       "    }\n",
       "\n",
       "    .dataframe tbody tr th {\n",
       "        vertical-align: top;\n",
       "    }\n",
       "\n",
       "    .dataframe thead th {\n",
       "        text-align: right;\n",
       "    }\n",
       "</style>\n",
       "<table border=\"1\" class=\"dataframe\">\n",
       "  <thead>\n",
       "    <tr style=\"text-align: right;\">\n",
       "      <th></th>\n",
       "      <th>RIC</th>\n",
       "      <th>Year</th>\n",
       "      <th>ESG Score</th>\n",
       "      <th>Environmental Pillar Score</th>\n",
       "      <th>Social Pillar Score</th>\n",
       "      <th>Governance Pillar Score</th>\n",
       "    </tr>\n",
       "  </thead>\n",
       "  <tbody>\n",
       "    <tr>\n",
       "      <th>38</th>\n",
       "      <td>NaN</td>\n",
       "      <td>12/31/2010</td>\n",
       "      <td>66.32451998</td>\n",
       "      <td>83.96977076</td>\n",
       "      <td>81.52632527</td>\n",
       "      <td>32.777778</td>\n",
       "    </tr>\n",
       "  </tbody>\n",
       "</table>\n",
       "</div>"
      ],
      "text/plain": [
       "    RIC        Year    ESG Score Environmental Pillar Score  \\\n",
       "38  NaN  12/31/2010  66.32451998                83.96977076   \n",
       "\n",
       "   Social Pillar Score  Governance Pillar Score  \n",
       "38         81.52632527                32.777778  "
      ]
     },
     "execution_count": 10,
     "metadata": {},
     "output_type": "execute_result"
    }
   ],
   "source": [
    "# show row with missing values in the RIC column\n",
    "df.loc[df['RIC'].isna()]"
   ]
  },
  {
   "cell_type": "markdown",
   "metadata": {},
   "source": [
    "This does not give us enough information to be able to infer which value we should put in. Let's check how the rows before and after look like. The data seemed to be ordered."
   ]
  },
  {
   "cell_type": "code",
   "execution_count": 11,
   "metadata": {},
   "outputs": [
    {
     "data": {
      "text/html": [
       "<div>\n",
       "<style scoped>\n",
       "    .dataframe tbody tr th:only-of-type {\n",
       "        vertical-align: middle;\n",
       "    }\n",
       "\n",
       "    .dataframe tbody tr th {\n",
       "        vertical-align: top;\n",
       "    }\n",
       "\n",
       "    .dataframe thead th {\n",
       "        text-align: right;\n",
       "    }\n",
       "</style>\n",
       "<table border=\"1\" class=\"dataframe\">\n",
       "  <thead>\n",
       "    <tr style=\"text-align: right;\">\n",
       "      <th></th>\n",
       "      <th>RIC</th>\n",
       "      <th>Year</th>\n",
       "      <th>ESG Score</th>\n",
       "      <th>Environmental Pillar Score</th>\n",
       "      <th>Social Pillar Score</th>\n",
       "      <th>Governance Pillar Score</th>\n",
       "    </tr>\n",
       "  </thead>\n",
       "  <tbody>\n",
       "    <tr>\n",
       "      <th>33</th>\n",
       "      <td>AFXG.DE</td>\n",
       "      <td>9/30/2018</td>\n",
       "      <td>61.47228047</td>\n",
       "      <td>42.95288754</td>\n",
       "      <td>82.9638712</td>\n",
       "      <td>41.817403</td>\n",
       "    </tr>\n",
       "    <tr>\n",
       "      <th>34</th>\n",
       "      <td>AFXG.DE</td>\n",
       "      <td>9/30/2019</td>\n",
       "      <td>63.40023663</td>\n",
       "      <td>67.52013141</td>\n",
       "      <td>81.77682655</td>\n",
       "      <td>37.281776</td>\n",
       "    </tr>\n",
       "    <tr>\n",
       "      <th>35</th>\n",
       "      <td>AFXG.DE</td>\n",
       "      <td>9/30/2020</td>\n",
       "      <td>69.20154509</td>\n",
       "      <td>68.41253377</td>\n",
       "      <td>82.00333553</td>\n",
       "      <td>52.714060</td>\n",
       "    </tr>\n",
       "    <tr>\n",
       "      <th>36</th>\n",
       "      <td>AFXG.DE</td>\n",
       "      <td>9/30/2021</td>\n",
       "      <td>65.85256005</td>\n",
       "      <td>69.52197802</td>\n",
       "      <td>80.80181851</td>\n",
       "      <td>44.456975</td>\n",
       "    </tr>\n",
       "    <tr>\n",
       "      <th>37</th>\n",
       "      <td>AFXG.DE</td>\n",
       "      <td>9/30/2022</td>\n",
       "      <td>68.37350256</td>\n",
       "      <td>67.91516994</td>\n",
       "      <td>75.13924779</td>\n",
       "      <td>59.679160</td>\n",
       "    </tr>\n",
       "    <tr>\n",
       "      <th>38</th>\n",
       "      <td>NaN</td>\n",
       "      <td>12/31/2010</td>\n",
       "      <td>66.32451998</td>\n",
       "      <td>83.96977076</td>\n",
       "      <td>81.52632527</td>\n",
       "      <td>32.777778</td>\n",
       "    </tr>\n",
       "    <tr>\n",
       "      <th>39</th>\n",
       "      <td>AIRG.DE</td>\n",
       "      <td>12/31/2011</td>\n",
       "      <td>66.57175916</td>\n",
       "      <td>93.03102324</td>\n",
       "      <td>76.75982239</td>\n",
       "      <td>33.357813</td>\n",
       "    </tr>\n",
       "    <tr>\n",
       "      <th>40</th>\n",
       "      <td>AIRG.DE</td>\n",
       "      <td>12/31/2012</td>\n",
       "      <td>74.98712188</td>\n",
       "      <td>96.42432731</td>\n",
       "      <td>84.87271758</td>\n",
       "      <td>45.866030</td>\n",
       "    </tr>\n",
       "    <tr>\n",
       "      <th>41</th>\n",
       "      <td>AIRG.DE</td>\n",
       "      <td>12/31/2013</td>\n",
       "      <td>75.3105932</td>\n",
       "      <td>94.42651669</td>\n",
       "      <td>82.0255872</td>\n",
       "      <td>52.189702</td>\n",
       "    </tr>\n",
       "    <tr>\n",
       "      <th>42</th>\n",
       "      <td>AIRG.DE</td>\n",
       "      <td>12/31/2014</td>\n",
       "      <td>72.68464007</td>\n",
       "      <td>95.30162386</td>\n",
       "      <td>76.74930028</td>\n",
       "      <td>50.588979</td>\n",
       "    </tr>\n",
       "  </tbody>\n",
       "</table>\n",
       "</div>"
      ],
      "text/plain": [
       "        RIC        Year    ESG Score Environmental Pillar Score  \\\n",
       "33  AFXG.DE   9/30/2018  61.47228047                42.95288754   \n",
       "34  AFXG.DE   9/30/2019  63.40023663                67.52013141   \n",
       "35  AFXG.DE   9/30/2020  69.20154509                68.41253377   \n",
       "36  AFXG.DE   9/30/2021  65.85256005                69.52197802   \n",
       "37  AFXG.DE   9/30/2022  68.37350256                67.91516994   \n",
       "38      NaN  12/31/2010  66.32451998                83.96977076   \n",
       "39  AIRG.DE  12/31/2011  66.57175916                93.03102324   \n",
       "40  AIRG.DE  12/31/2012  74.98712188                96.42432731   \n",
       "41  AIRG.DE  12/31/2013   75.3105932                94.42651669   \n",
       "42  AIRG.DE  12/31/2014  72.68464007                95.30162386   \n",
       "\n",
       "   Social Pillar Score  Governance Pillar Score  \n",
       "33          82.9638712                41.817403  \n",
       "34         81.77682655                37.281776  \n",
       "35         82.00333553                52.714060  \n",
       "36         80.80181851                44.456975  \n",
       "37         75.13924779                59.679160  \n",
       "38         81.52632527                32.777778  \n",
       "39         76.75982239                33.357813  \n",
       "40         84.87271758                45.866030  \n",
       "41          82.0255872                52.189702  \n",
       "42         76.74930028                50.588979  "
      ]
     },
     "execution_count": 11,
     "metadata": {},
     "output_type": "execute_result"
    }
   ],
   "source": [
    "# show 5 rows before and after the missing value\n",
    "na_index = df[df['RIC'].isna()].index[0]\n",
    "df.iloc[na_index-5:na_index+5]"
   ]
  },
  {
   "cell_type": "markdown",
   "metadata": {},
   "source": [
    "From this pattern, I would infer that the missing value is AIRG.DE."
   ]
  },
  {
   "cell_type": "code",
   "execution_count": 12,
   "metadata": {},
   "outputs": [],
   "source": [
    "# replace missing value with correct value\n",
    "df.loc[df['RIC'].isna(), 'RIC'] = 'AIRG.DE'"
   ]
  },
  {
   "cell_type": "markdown",
   "metadata": {},
   "source": [
    "In the initial inspection we already saw that the RIC column contained some strange values. Let's check this by looking at values that appear less often in this column."
   ]
  },
  {
   "cell_type": "code",
   "execution_count": 13,
   "metadata": {},
   "outputs": [
    {
     "data": {
      "text/plain": [
       "RIC\n",
       "('AT1.DE)       1\n",
       "1COV.           1\n",
       "ALVG.Deutsch    1\n",
       ".DE             1\n",
       "Name: count, dtype: int64"
      ]
     },
     "execution_count": 13,
     "metadata": {},
     "output_type": "execute_result"
    }
   ],
   "source": [
    "# get unique RIC values\n",
    "ric_counts = df['RIC'].value_counts()\n",
    "\n",
    "# look at values that appear less often (change the number from higher to lower values to narrow it down)\n",
    "ric_counts[ric_counts < 2]"
   ]
  },
  {
   "cell_type": "markdown",
   "metadata": {},
   "source": [
    "Next, we try to find the values that are actually meant."
   ]
  },
  {
   "cell_type": "code",
   "execution_count": 14,
   "metadata": {},
   "outputs": [
    {
     "name": "stdout",
     "output_type": "stream",
     "text": [
      "       RIC        Year    ESG Score Environmental Pillar Score  \\\n",
      "81  AT1.DE  12/31/2017  57.97118122                32.31898802   \n",
      "82  AT1.DE  12/31/2018  59.55071134                45.75734537   \n",
      "83  AT1.DE  12/31/2019  63.97679468                55.63526685   \n",
      "84  AT1.DE  12/31/2020  64.25964412                41.24617648   \n",
      "86  AT1.DE  12/31/2022  64.21054483                50.93299766   \n",
      "\n",
      "   Social Pillar Score  Governance Pillar Score  \n",
      "81         81.87009069                56.479501  \n",
      "82         79.03427269                51.452381  \n",
      "83         83.46900014                50.598846  \n",
      "84         89.63244701                58.595913  \n",
      "86         86.50521716                52.521368  \n",
      "       RIC        Year    ESG Score Environmental Pillar Score  \\\n",
      "0  1COV.DE  12/31/2015  52.44994215                58.93181287   \n",
      "1  1COV.DE  12/31/2016  66.40156532                70.25422296   \n",
      "2  1COV.DE  12/31/2017  68.92980708                 68.5188051   \n",
      "3  1COV.DE  12/31/2018  73.81273346                72.90604674   \n",
      "4  1COV.DE  12/31/2019  74.88870359                69.74853631   \n",
      "5  1COV.DE  12/31/2020  76.32960333                74.07848625   \n",
      "6  1COV.DE  12/31/2021  75.82485143                75.30081329   \n",
      "7    1COV.  12/31/2022  81.24769221                82.50352674   \n",
      "8  1COV.DE  12/31/2023   71.4575025                63.99739649   \n",
      "\n",
      "  Social Pillar Score  Governance Pillar Score  \n",
      "0         47.27886179                49.760746  \n",
      "1         68.00431533                56.879433  \n",
      "2         74.68608474                59.902218  \n",
      "3         74.88865943                73.591450  \n",
      "4         72.42356247                88.146710  \n",
      "5         70.39162615                90.368149  \n",
      "6           72.189525                82.910511  \n",
      "7          73.7288222                91.769359  \n",
      "8           70.488781                86.278468  \n",
      "        RIC        Year    ESG Score Environmental Pillar Score  \\\n",
      "66  ALVG.DE  12/31/2010  83.11582192                96.23576605   \n",
      "67  ALVG.DE  12/31/2011  86.12543297                98.31197633   \n",
      "68  ALVG.DE  12/31/2012  84.36431327                 97.9566579   \n",
      "69  ALVG.DE  12/31/2013  88.67224315                97.80621221   \n",
      "70  ALVG.DE  12/31/2014  86.11788131                97.28707452   \n",
      "71  ALVG.DE  12/31/2015  88.46171122                97.50431516   \n",
      "72  ALVG.DE  12/31/2016  86.64790081                97.00111079   \n",
      "74  ALVG.DE  12/31/2018  94.93752395                95.32871481   \n",
      "75  ALVG.DE  12/31/2019  93.75349716                94.37524002   \n",
      "76  ALVG.DE  12/31/2020  93.39072601                93.44340272   \n",
      "77  ALVG.DE  12/31/2021  91.38902218                93.51032481   \n",
      "78  ALVG.DE  12/31/2022  89.62349991                 93.4510561   \n",
      "79  ALVG.DE  12/31/2023    88.952108                93.52137194   \n",
      "\n",
      "   Social Pillar Score  Governance Pillar Score  \n",
      "66         80.94081117                82.095588  \n",
      "67         81.83596114                87.720413  \n",
      "68         81.04343933                84.274510  \n",
      "69         87.71274736                87.455425  \n",
      "70          85.7556539                83.832453  \n",
      "71         85.51798481                89.907266  \n",
      "72         84.96949084                86.409997  \n",
      "74         93.70747345                96.242186  \n",
      "75         92.57661443                94.919279  \n",
      "76         92.36539897                94.569382  \n",
      "77         89.10889013                93.342075  \n",
      "78         88.05800866                90.174054  \n",
      "79         88.37761328                88.099264  \n"
     ]
    }
   ],
   "source": [
    "# look at rows with similar values as the incorrect values\n",
    "print(df[df['RIC']=='AT1.DE'])\n",
    "print(df[df['RIC'].str.startswith(\"1COV\")])\n",
    "print(df[df['RIC']=='ALVG.DE'])"
   ]
  },
  {
   "cell_type": "markdown",
   "metadata": {},
   "source": [
    "For the value '.DE' we can look at the surrounding values again."
   ]
  },
  {
   "cell_type": "code",
   "execution_count": 15,
   "metadata": {},
   "outputs": [
    {
     "data": {
      "text/html": [
       "<div>\n",
       "<style scoped>\n",
       "    .dataframe tbody tr th:only-of-type {\n",
       "        vertical-align: middle;\n",
       "    }\n",
       "\n",
       "    .dataframe tbody tr th {\n",
       "        vertical-align: top;\n",
       "    }\n",
       "\n",
       "    .dataframe thead th {\n",
       "        text-align: right;\n",
       "    }\n",
       "</style>\n",
       "<table border=\"1\" class=\"dataframe\">\n",
       "  <thead>\n",
       "    <tr style=\"text-align: right;\">\n",
       "      <th></th>\n",
       "      <th>RIC</th>\n",
       "      <th>Year</th>\n",
       "      <th>ESG Score</th>\n",
       "      <th>Environmental Pillar Score</th>\n",
       "      <th>Social Pillar Score</th>\n",
       "      <th>Governance Pillar Score</th>\n",
       "    </tr>\n",
       "  </thead>\n",
       "  <tbody>\n",
       "    <tr>\n",
       "      <th>7</th>\n",
       "      <td>1COV.</td>\n",
       "      <td>12/31/2022</td>\n",
       "      <td>81.24769221</td>\n",
       "      <td>82.50352674</td>\n",
       "      <td>73.7288222</td>\n",
       "      <td>91.769359</td>\n",
       "    </tr>\n",
       "    <tr>\n",
       "      <th>8</th>\n",
       "      <td>1COV.DE</td>\n",
       "      <td>12/31/2023</td>\n",
       "      <td>71.4575025</td>\n",
       "      <td>63.99739649</td>\n",
       "      <td>70.488781</td>\n",
       "      <td>86.278468</td>\n",
       "    </tr>\n",
       "    <tr>\n",
       "      <th>9</th>\n",
       "      <td>1U1.DE</td>\n",
       "      <td>12/31/2017</td>\n",
       "      <td>24.55020667</td>\n",
       "      <td>46.34944526</td>\n",
       "      <td>24.33128266</td>\n",
       "      <td>8.276521</td>\n",
       "    </tr>\n",
       "    <tr>\n",
       "      <th>10</th>\n",
       "      <td>1U1.DE</td>\n",
       "      <td>12/31/2018</td>\n",
       "      <td>39.09142473</td>\n",
       "      <td>49.20545841</td>\n",
       "      <td>39.53502319</td>\n",
       "      <td>30.447671</td>\n",
       "    </tr>\n",
       "    <tr>\n",
       "      <th>11</th>\n",
       "      <td>1U1.DE</td>\n",
       "      <td>12/31/2019</td>\n",
       "      <td>34.88469637</td>\n",
       "      <td>39.25456901</td>\n",
       "      <td>37.76029209</td>\n",
       "      <td>25.767294</td>\n",
       "    </tr>\n",
       "    <tr>\n",
       "      <th>12</th>\n",
       "      <td>.DE</td>\n",
       "      <td>12/31/2020</td>\n",
       "      <td>42.2837683</td>\n",
       "      <td>45.01251043</td>\n",
       "      <td>46.55546662</td>\n",
       "      <td>31.624604</td>\n",
       "    </tr>\n",
       "    <tr>\n",
       "      <th>13</th>\n",
       "      <td>1U1.DE</td>\n",
       "      <td>12/31/2021</td>\n",
       "      <td>57.49020034</td>\n",
       "      <td>43.29616639</td>\n",
       "      <td>69.81604552</td>\n",
       "      <td>43.652126</td>\n",
       "    </tr>\n",
       "    <tr>\n",
       "      <th>14</th>\n",
       "      <td>1U1.DE</td>\n",
       "      <td>12/31/2022</td>\n",
       "      <td>68.1036515</td>\n",
       "      <td>49.75833055</td>\n",
       "      <td>74.67773081</td>\n",
       "      <td>68.983716</td>\n",
       "    </tr>\n",
       "    <tr>\n",
       "      <th>15</th>\n",
       "      <td>8TRA.DE</td>\n",
       "      <td>Tuesday, December 31, 2019</td>\n",
       "      <td>25.62498945</td>\n",
       "      <td>31.99037548</td>\n",
       "      <td>26.39936394</td>\n",
       "      <td>16.971235</td>\n",
       "    </tr>\n",
       "    <tr>\n",
       "      <th>16</th>\n",
       "      <td>8TRA.DE</td>\n",
       "      <td>12/31/2020</td>\n",
       "      <td>30.28771511</td>\n",
       "      <td>29.52954813</td>\n",
       "      <td>25.30222295</td>\n",
       "      <td>37.734050</td>\n",
       "    </tr>\n",
       "  </tbody>\n",
       "</table>\n",
       "</div>"
      ],
      "text/plain": [
       "        RIC                        Year    ESG Score  \\\n",
       "7     1COV.                  12/31/2022  81.24769221   \n",
       "8   1COV.DE                  12/31/2023   71.4575025   \n",
       "9    1U1.DE                  12/31/2017  24.55020667   \n",
       "10   1U1.DE                  12/31/2018  39.09142473   \n",
       "11   1U1.DE                  12/31/2019  34.88469637   \n",
       "12      .DE                  12/31/2020   42.2837683   \n",
       "13   1U1.DE                  12/31/2021  57.49020034   \n",
       "14   1U1.DE                  12/31/2022   68.1036515   \n",
       "15  8TRA.DE  Tuesday, December 31, 2019  25.62498945   \n",
       "16  8TRA.DE                  12/31/2020  30.28771511   \n",
       "\n",
       "   Environmental Pillar Score Social Pillar Score  Governance Pillar Score  \n",
       "7                 82.50352674          73.7288222                91.769359  \n",
       "8                 63.99739649           70.488781                86.278468  \n",
       "9                 46.34944526         24.33128266                 8.276521  \n",
       "10                49.20545841         39.53502319                30.447671  \n",
       "11                39.25456901         37.76029209                25.767294  \n",
       "12                45.01251043         46.55546662                31.624604  \n",
       "13                43.29616639         69.81604552                43.652126  \n",
       "14                49.75833055         74.67773081                68.983716  \n",
       "15                31.99037548         26.39936394                16.971235  \n",
       "16                29.52954813         25.30222295                37.734050  "
      ]
     },
     "execution_count": 15,
     "metadata": {},
     "output_type": "execute_result"
    }
   ],
   "source": [
    "# show 5 rows before and after the .DE value\n",
    "de_index = df[df['RIC']=='.DE'].index[0]\n",
    "df.iloc[de_index-5:de_index+5]"
   ]
  },
  {
   "cell_type": "markdown",
   "metadata": {},
   "source": [
    "From this information we can infer the correct RIC values and replace them."
   ]
  },
  {
   "cell_type": "code",
   "execution_count": 16,
   "metadata": {},
   "outputs": [],
   "source": [
    "# replace incorrect RIC values with correct ones\n",
    "df.loc[df['RIC']==\"('AT1.DE)\", 'RIC'] = 'AT1.DE'\n",
    "df.loc[df['RIC']=='1COV.', 'RIC'] = '1COV.DE'\n",
    "df.loc[df['RIC']=='ALVG.Deutsch', 'RIC'] = 'ALVG.DE'\n",
    "df.loc[df['RIC']=='.DE', 'RIC'] = '1U1.DE'"
   ]
  },
  {
   "cell_type": "markdown",
   "metadata": {},
   "source": [
    "Let's check if there are more errors."
   ]
  },
  {
   "cell_type": "code",
   "execution_count": 17,
   "metadata": {},
   "outputs": [
    {
     "data": {
      "text/plain": [
       "RIC\n",
       "DTGGe.DE    2\n",
       "Name: count, dtype: int64"
      ]
     },
     "execution_count": 17,
     "metadata": {},
     "output_type": "execute_result"
    }
   ],
   "source": [
    "# check if the replacement worked and if there are more errors\n",
    "ric_counts = df['RIC'].value_counts()\n",
    "ric_counts[ric_counts < 3]"
   ]
  },
  {
   "cell_type": "code",
   "execution_count": 18,
   "metadata": {},
   "outputs": [
    {
     "data": {
      "text/html": [
       "<div>\n",
       "<style scoped>\n",
       "    .dataframe tbody tr th:only-of-type {\n",
       "        vertical-align: middle;\n",
       "    }\n",
       "\n",
       "    .dataframe tbody tr th {\n",
       "        vertical-align: top;\n",
       "    }\n",
       "\n",
       "    .dataframe thead th {\n",
       "        text-align: right;\n",
       "    }\n",
       "</style>\n",
       "<table border=\"1\" class=\"dataframe\">\n",
       "  <thead>\n",
       "    <tr style=\"text-align: right;\">\n",
       "      <th></th>\n",
       "      <th>RIC</th>\n",
       "      <th>Year</th>\n",
       "      <th>ESG Score</th>\n",
       "      <th>Environmental Pillar Score</th>\n",
       "      <th>Social Pillar Score</th>\n",
       "      <th>Governance Pillar Score</th>\n",
       "    </tr>\n",
       "  </thead>\n",
       "  <tbody>\n",
       "    <tr>\n",
       "      <th>269</th>\n",
       "      <td>DTEGn.DE</td>\n",
       "      <td>12/31/2020</td>\n",
       "      <td>86.40637203</td>\n",
       "      <td>80.41380706</td>\n",
       "      <td>94.18810717</td>\n",
       "      <td>75.393970</td>\n",
       "    </tr>\n",
       "    <tr>\n",
       "      <th>270</th>\n",
       "      <td>DTEGn.DE</td>\n",
       "      <td>12/31/2021</td>\n",
       "      <td>84.56937731</td>\n",
       "      <td>83.81274769</td>\n",
       "      <td>91.30728327</td>\n",
       "      <td>71.636215</td>\n",
       "    </tr>\n",
       "    <tr>\n",
       "      <th>271</th>\n",
       "      <td>DTEGn.DE</td>\n",
       "      <td>12/31/2022</td>\n",
       "      <td>82.77151583</td>\n",
       "      <td>82.24100226</td>\n",
       "      <td>90.87647347</td>\n",
       "      <td>66.923300</td>\n",
       "    </tr>\n",
       "    <tr>\n",
       "      <th>272</th>\n",
       "      <td>DTEGn.DE</td>\n",
       "      <td>12/31/2023</td>\n",
       "      <td>79.55443714</td>\n",
       "      <td>84.10646055</td>\n",
       "      <td>89.29676892</td>\n",
       "      <td>56.525765</td>\n",
       "    </tr>\n",
       "    <tr>\n",
       "      <th>273</th>\n",
       "      <td>DTGGe.DE</td>\n",
       "      <td>12/31/2021</td>\n",
       "      <td>85.11509017</td>\n",
       "      <td>82.89792392</td>\n",
       "      <td>89.37767852</td>\n",
       "      <td>82.186963</td>\n",
       "    </tr>\n",
       "    <tr>\n",
       "      <th>274</th>\n",
       "      <td>DTGGe.DE</td>\n",
       "      <td>12/31/2022</td>\n",
       "      <td>83.5577876</td>\n",
       "      <td>87.26520049</td>\n",
       "      <td>89.67037704</td>\n",
       "      <td>71.094608</td>\n",
       "    </tr>\n",
       "    <tr>\n",
       "      <th>275</th>\n",
       "      <td>ECVG.DE</td>\n",
       "      <td>12/31/2018</td>\n",
       "      <td>9.643416983</td>\n",
       "      <td>8.677383997</td>\n",
       "      <td>4.163194961</td>\n",
       "      <td>18.409962</td>\n",
       "    </tr>\n",
       "    <tr>\n",
       "      <th>276</th>\n",
       "      <td>ECVG.DE</td>\n",
       "      <td>12/31/2019</td>\n",
       "      <td>9.488368669</td>\n",
       "      <td>13.67580385</td>\n",
       "      <td>3.827181314</td>\n",
       "      <td>9.729272</td>\n",
       "    </tr>\n",
       "    <tr>\n",
       "      <th>277</th>\n",
       "      <td>ECVG.DE</td>\n",
       "      <td>12/31/2020</td>\n",
       "      <td>29.75335234</td>\n",
       "      <td>27.63306283</td>\n",
       "      <td>36.00626954</td>\n",
       "      <td>25.229052</td>\n",
       "    </tr>\n",
       "    <tr>\n",
       "      <th>278</th>\n",
       "      <td>ECVG.DE</td>\n",
       "      <td>12/31/2021</td>\n",
       "      <td>38.6647489</td>\n",
       "      <td>35.83125959</td>\n",
       "      <td>46.3440744</td>\n",
       "      <td>33.498558</td>\n",
       "    </tr>\n",
       "  </tbody>\n",
       "</table>\n",
       "</div>"
      ],
      "text/plain": [
       "          RIC        Year    ESG Score Environmental Pillar Score  \\\n",
       "269  DTEGn.DE  12/31/2020  86.40637203                80.41380706   \n",
       "270  DTEGn.DE  12/31/2021  84.56937731                83.81274769   \n",
       "271  DTEGn.DE  12/31/2022  82.77151583                82.24100226   \n",
       "272  DTEGn.DE  12/31/2023  79.55443714                84.10646055   \n",
       "273  DTGGe.DE  12/31/2021  85.11509017                82.89792392   \n",
       "274  DTGGe.DE  12/31/2022   83.5577876                87.26520049   \n",
       "275   ECVG.DE  12/31/2018  9.643416983                8.677383997   \n",
       "276   ECVG.DE  12/31/2019  9.488368669                13.67580385   \n",
       "277   ECVG.DE  12/31/2020  29.75335234                27.63306283   \n",
       "278   ECVG.DE  12/31/2021   38.6647489                35.83125959   \n",
       "\n",
       "    Social Pillar Score  Governance Pillar Score  \n",
       "269         94.18810717                75.393970  \n",
       "270         91.30728327                71.636215  \n",
       "271         90.87647347                66.923300  \n",
       "272         89.29676892                56.525765  \n",
       "273         89.37767852                82.186963  \n",
       "274         89.67037704                71.094608  \n",
       "275         4.163194961                18.409962  \n",
       "276         3.827181314                 9.729272  \n",
       "277         36.00626954                25.229052  \n",
       "278          46.3440744                33.498558  "
      ]
     },
     "execution_count": 18,
     "metadata": {},
     "output_type": "execute_result"
    }
   ],
   "source": [
    "# show 5 rows before and after the value\n",
    "de_index = df[df['RIC']=='DTGGe.DE'].index[0]\n",
    "df.iloc[de_index-5:de_index+5]"
   ]
  },
  {
   "cell_type": "markdown",
   "metadata": {},
   "source": [
    "This looks correct."
   ]
  },
  {
   "cell_type": "markdown",
   "metadata": {},
   "source": [
    "## 4. Fixing errors in the Year column"
   ]
  },
  {
   "cell_type": "markdown",
   "metadata": {},
   "source": [
    "During the initial inspection we already saw that there was one value in the Year column that was formatted differently than the others. First, we want to find out if this is a single case or if there are more values with different formatting."
   ]
  },
  {
   "cell_type": "code",
   "execution_count": 19,
   "metadata": {},
   "outputs": [
    {
     "data": {
      "text/html": [
       "<div>\n",
       "<style scoped>\n",
       "    .dataframe tbody tr th:only-of-type {\n",
       "        vertical-align: middle;\n",
       "    }\n",
       "\n",
       "    .dataframe tbody tr th {\n",
       "        vertical-align: top;\n",
       "    }\n",
       "\n",
       "    .dataframe thead th {\n",
       "        text-align: right;\n",
       "    }\n",
       "</style>\n",
       "<table border=\"1\" class=\"dataframe\">\n",
       "  <thead>\n",
       "    <tr style=\"text-align: right;\">\n",
       "      <th></th>\n",
       "      <th>RIC</th>\n",
       "      <th>Year</th>\n",
       "      <th>ESG Score</th>\n",
       "      <th>Environmental Pillar Score</th>\n",
       "      <th>Social Pillar Score</th>\n",
       "      <th>Governance Pillar Score</th>\n",
       "    </tr>\n",
       "  </thead>\n",
       "  <tbody>\n",
       "    <tr>\n",
       "      <th>15</th>\n",
       "      <td>8TRA.DE</td>\n",
       "      <td>Tuesday, December 31, 2019</td>\n",
       "      <td>25.62498945</td>\n",
       "      <td>31.99037548</td>\n",
       "      <td>26.39936394</td>\n",
       "      <td>16.971235</td>\n",
       "    </tr>\n",
       "  </tbody>\n",
       "</table>\n",
       "</div>"
      ],
      "text/plain": [
       "        RIC                        Year    ESG Score  \\\n",
       "15  8TRA.DE  Tuesday, December 31, 2019  25.62498945   \n",
       "\n",
       "   Environmental Pillar Score Social Pillar Score  Governance Pillar Score  \n",
       "15                31.99037548         26.39936394                16.971235  "
      ]
     },
     "execution_count": 19,
     "metadata": {},
     "output_type": "execute_result"
    }
   ],
   "source": [
    "# use re pattern to match the formatting of the values in the Year column\n",
    "pattern = r\"^(0?[1-9]|1[0-2])/([0-2][0-9]|3[01])/([0-9]{4})$\"\n",
    "\n",
    "# filter for values that differ from the commmon pattern\n",
    "df[~df['Year'].str.match(pattern)]"
   ]
  },
  {
   "cell_type": "markdown",
   "metadata": {},
   "source": [
    "Only one value differs from the common format in the Year column."
   ]
  },
  {
   "cell_type": "markdown",
   "metadata": {},
   "source": [
    "Furthermore, we saw in the inital inspection that the month and day seemed to be the same for all values. We can check if this assumption is true by looking at the rows which do not start with said month and day."
   ]
  },
  {
   "cell_type": "code",
   "execution_count": 20,
   "metadata": {},
   "outputs": [
    {
     "data": {
      "text/html": [
       "<div>\n",
       "<style scoped>\n",
       "    .dataframe tbody tr th:only-of-type {\n",
       "        vertical-align: middle;\n",
       "    }\n",
       "\n",
       "    .dataframe tbody tr th {\n",
       "        vertical-align: top;\n",
       "    }\n",
       "\n",
       "    .dataframe thead th {\n",
       "        text-align: right;\n",
       "    }\n",
       "</style>\n",
       "<table border=\"1\" class=\"dataframe\">\n",
       "  <thead>\n",
       "    <tr style=\"text-align: right;\">\n",
       "      <th></th>\n",
       "      <th>RIC</th>\n",
       "      <th>Year</th>\n",
       "      <th>ESG Score</th>\n",
       "      <th>Environmental Pillar Score</th>\n",
       "      <th>Social Pillar Score</th>\n",
       "      <th>Governance Pillar Score</th>\n",
       "    </tr>\n",
       "  </thead>\n",
       "  <tbody>\n",
       "    <tr>\n",
       "      <th>15</th>\n",
       "      <td>8TRA.DE</td>\n",
       "      <td>Tuesday, December 31, 2019</td>\n",
       "      <td>25.62498945</td>\n",
       "      <td>31.99037548</td>\n",
       "      <td>26.39936394</td>\n",
       "      <td>16.971235</td>\n",
       "    </tr>\n",
       "    <tr>\n",
       "      <th>32</th>\n",
       "      <td>AFXG.DE</td>\n",
       "      <td>9/30/2017</td>\n",
       "      <td>55.52628484</td>\n",
       "      <td>31.77455357</td>\n",
       "      <td>80.33742624</td>\n",
       "      <td>33.942423</td>\n",
       "    </tr>\n",
       "    <tr>\n",
       "      <th>33</th>\n",
       "      <td>AFXG.DE</td>\n",
       "      <td>9/30/2018</td>\n",
       "      <td>61.47228047</td>\n",
       "      <td>42.95288754</td>\n",
       "      <td>82.9638712</td>\n",
       "      <td>41.817403</td>\n",
       "    </tr>\n",
       "    <tr>\n",
       "      <th>34</th>\n",
       "      <td>AFXG.DE</td>\n",
       "      <td>9/30/2019</td>\n",
       "      <td>63.40023663</td>\n",
       "      <td>67.52013141</td>\n",
       "      <td>81.77682655</td>\n",
       "      <td>37.281776</td>\n",
       "    </tr>\n",
       "    <tr>\n",
       "      <th>35</th>\n",
       "      <td>AFXG.DE</td>\n",
       "      <td>9/30/2020</td>\n",
       "      <td>69.20154509</td>\n",
       "      <td>68.41253377</td>\n",
       "      <td>82.00333553</td>\n",
       "      <td>52.714060</td>\n",
       "    </tr>\n",
       "    <tr>\n",
       "      <th>...</th>\n",
       "      <td>...</td>\n",
       "      <td>...</td>\n",
       "      <td>...</td>\n",
       "      <td>...</td>\n",
       "      <td>...</td>\n",
       "      <td>...</td>\n",
       "    </tr>\n",
       "    <tr>\n",
       "      <th>905</th>\n",
       "      <td>TUI1n.DE</td>\n",
       "      <td>9/30/2019</td>\n",
       "      <td>84.14091648</td>\n",
       "      <td>83.49178153</td>\n",
       "      <td>86.31108076</td>\n",
       "      <td>81.469892</td>\n",
       "    </tr>\n",
       "    <tr>\n",
       "      <th>906</th>\n",
       "      <td>TUI1n.DE</td>\n",
       "      <td>9/30/2020</td>\n",
       "      <td>79.51499064</td>\n",
       "      <td>71.88013055</td>\n",
       "      <td>83.52491318</td>\n",
       "      <td>80.371481</td>\n",
       "    </tr>\n",
       "    <tr>\n",
       "      <th>907</th>\n",
       "      <td>TUI1n.DE</td>\n",
       "      <td>9/30/2021</td>\n",
       "      <td>77.55197329</td>\n",
       "      <td>69.13600996</td>\n",
       "      <td>78.79412965</td>\n",
       "      <td>83.263106</td>\n",
       "    </tr>\n",
       "    <tr>\n",
       "      <th>908</th>\n",
       "      <td>TUI1n.DE</td>\n",
       "      <td>9/30/2022</td>\n",
       "      <td>75.82172845</td>\n",
       "      <td>56.71372017</td>\n",
       "      <td>84.44312987</td>\n",
       "      <td>80.086834</td>\n",
       "    </tr>\n",
       "    <tr>\n",
       "      <th>909</th>\n",
       "      <td>TUI1n.DE</td>\n",
       "      <td>9/30/2023</td>\n",
       "      <td>70.03445072</td>\n",
       "      <td>56.1203664</td>\n",
       "      <td>74.97093249</td>\n",
       "      <td>75.152404</td>\n",
       "    </tr>\n",
       "  </tbody>\n",
       "</table>\n",
       "<p>107 rows × 6 columns</p>\n",
       "</div>"
      ],
      "text/plain": [
       "          RIC                        Year    ESG Score  \\\n",
       "15    8TRA.DE  Tuesday, December 31, 2019  25.62498945   \n",
       "32    AFXG.DE                   9/30/2017  55.52628484   \n",
       "33    AFXG.DE                   9/30/2018  61.47228047   \n",
       "34    AFXG.DE                   9/30/2019  63.40023663   \n",
       "35    AFXG.DE                   9/30/2020  69.20154509   \n",
       "..        ...                         ...          ...   \n",
       "905  TUI1n.DE                   9/30/2019  84.14091648   \n",
       "906  TUI1n.DE                   9/30/2020  79.51499064   \n",
       "907  TUI1n.DE                   9/30/2021  77.55197329   \n",
       "908  TUI1n.DE                   9/30/2022  75.82172845   \n",
       "909  TUI1n.DE                   9/30/2023  70.03445072   \n",
       "\n",
       "    Environmental Pillar Score Social Pillar Score  Governance Pillar Score  \n",
       "15                 31.99037548         26.39936394                16.971235  \n",
       "32                 31.77455357         80.33742624                33.942423  \n",
       "33                 42.95288754          82.9638712                41.817403  \n",
       "34                 67.52013141         81.77682655                37.281776  \n",
       "35                 68.41253377         82.00333553                52.714060  \n",
       "..                         ...                 ...                      ...  \n",
       "905                83.49178153         86.31108076                81.469892  \n",
       "906                71.88013055         83.52491318                80.371481  \n",
       "907                69.13600996         78.79412965                83.263106  \n",
       "908                56.71372017         84.44312987                80.086834  \n",
       "909                 56.1203664         74.97093249                75.152404  \n",
       "\n",
       "[107 rows x 6 columns]"
      ]
     },
     "execution_count": 20,
     "metadata": {},
     "output_type": "execute_result"
    }
   ],
   "source": [
    "# filter rows that do not start with 12/31/\n",
    "df[~df['Year'].str.startswith(\"12/31/\")]"
   ]
  },
  {
   "cell_type": "markdown",
   "metadata": {},
   "source": [
    "Apparently, not all rows have the same month and day. Therefore, we should find out which other values there are and how often they appear."
   ]
  },
  {
   "cell_type": "code",
   "execution_count": 21,
   "metadata": {},
   "outputs": [
    {
     "data": {
      "text/plain": [
       "Month_Day\n",
       "12/31    863\n",
       "9/30/     88\n",
       "11/30     14\n",
       "5/31/      4\n",
       "Tuesd      1\n",
       "Name: count, dtype: int64"
      ]
     },
     "execution_count": 21,
     "metadata": {},
     "output_type": "execute_result"
    }
   ],
   "source": [
    "# extract month and day only (MM/DD) by slicing the first 5 characters\n",
    "df['Month_Day'] = df['Year'].str.slice(stop=5)\n",
    "\n",
    "# get unique Month/Day values and their amount\n",
    "df['Month_Day'].value_counts()"
   ]
  },
  {
   "cell_type": "markdown",
   "metadata": {},
   "source": [
    "There seem to be just 4 different month/day values and most of the values are the 31st December. We conclude that this is no valuable information (together with the fact that the column is named 'Year'). Therefore, we just extract and keep the year. Then, we can also convert the datatype of the Year column to integer."
   ]
  },
  {
   "cell_type": "code",
   "execution_count": 22,
   "metadata": {},
   "outputs": [
    {
     "name": "stdout",
     "output_type": "stream",
     "text": [
      "<class 'pandas.core.frame.DataFrame'>\n",
      "Index: 970 entries, 0 to 972\n",
      "Data columns (total 6 columns):\n",
      " #   Column                      Non-Null Count  Dtype  \n",
      "---  ------                      --------------  -----  \n",
      " 0   RIC                         970 non-null    object \n",
      " 1   Year                        970 non-null    int64  \n",
      " 2   ESG Score                   970 non-null    object \n",
      " 3   Environmental Pillar Score  970 non-null    object \n",
      " 4   Social Pillar Score         970 non-null    object \n",
      " 5   Governance Pillar Score     970 non-null    float64\n",
      "dtypes: float64(1), int64(1), object(4)\n",
      "memory usage: 53.0+ KB\n",
      "None\n"
     ]
    },
    {
     "data": {
      "text/html": [
       "<div>\n",
       "<style scoped>\n",
       "    .dataframe tbody tr th:only-of-type {\n",
       "        vertical-align: middle;\n",
       "    }\n",
       "\n",
       "    .dataframe tbody tr th {\n",
       "        vertical-align: top;\n",
       "    }\n",
       "\n",
       "    .dataframe thead th {\n",
       "        text-align: right;\n",
       "    }\n",
       "</style>\n",
       "<table border=\"1\" class=\"dataframe\">\n",
       "  <thead>\n",
       "    <tr style=\"text-align: right;\">\n",
       "      <th></th>\n",
       "      <th>RIC</th>\n",
       "      <th>Year</th>\n",
       "      <th>ESG Score</th>\n",
       "      <th>Environmental Pillar Score</th>\n",
       "      <th>Social Pillar Score</th>\n",
       "      <th>Governance Pillar Score</th>\n",
       "    </tr>\n",
       "  </thead>\n",
       "  <tbody>\n",
       "    <tr>\n",
       "      <th>0</th>\n",
       "      <td>1COV.DE</td>\n",
       "      <td>2015</td>\n",
       "      <td>52.44994215</td>\n",
       "      <td>58.93181287</td>\n",
       "      <td>47.27886179</td>\n",
       "      <td>49.760746</td>\n",
       "    </tr>\n",
       "    <tr>\n",
       "      <th>1</th>\n",
       "      <td>1COV.DE</td>\n",
       "      <td>2016</td>\n",
       "      <td>66.40156532</td>\n",
       "      <td>70.25422296</td>\n",
       "      <td>68.00431533</td>\n",
       "      <td>56.879433</td>\n",
       "    </tr>\n",
       "    <tr>\n",
       "      <th>2</th>\n",
       "      <td>1COV.DE</td>\n",
       "      <td>2017</td>\n",
       "      <td>68.92980708</td>\n",
       "      <td>68.5188051</td>\n",
       "      <td>74.68608474</td>\n",
       "      <td>59.902218</td>\n",
       "    </tr>\n",
       "    <tr>\n",
       "      <th>3</th>\n",
       "      <td>1COV.DE</td>\n",
       "      <td>2018</td>\n",
       "      <td>73.81273346</td>\n",
       "      <td>72.90604674</td>\n",
       "      <td>74.88865943</td>\n",
       "      <td>73.591450</td>\n",
       "    </tr>\n",
       "    <tr>\n",
       "      <th>4</th>\n",
       "      <td>1COV.DE</td>\n",
       "      <td>2019</td>\n",
       "      <td>74.88870359</td>\n",
       "      <td>69.74853631</td>\n",
       "      <td>72.42356247</td>\n",
       "      <td>88.146710</td>\n",
       "    </tr>\n",
       "  </tbody>\n",
       "</table>\n",
       "</div>"
      ],
      "text/plain": [
       "       RIC  Year    ESG Score Environmental Pillar Score Social Pillar Score  \\\n",
       "0  1COV.DE  2015  52.44994215                58.93181287         47.27886179   \n",
       "1  1COV.DE  2016  66.40156532                70.25422296         68.00431533   \n",
       "2  1COV.DE  2017  68.92980708                 68.5188051         74.68608474   \n",
       "3  1COV.DE  2018  73.81273346                72.90604674         74.88865943   \n",
       "4  1COV.DE  2019  74.88870359                69.74853631         72.42356247   \n",
       "\n",
       "   Governance Pillar Score  \n",
       "0                49.760746  \n",
       "1                56.879433  \n",
       "2                59.902218  \n",
       "3                73.591450  \n",
       "4                88.146710  "
      ]
     },
     "execution_count": 22,
     "metadata": {},
     "output_type": "execute_result"
    }
   ],
   "source": [
    "# keep only the year and convert it to int\n",
    "df['Year'] = df['Year'].str[-4:].astype(int)\n",
    "\n",
    "# drop Month/Day column\n",
    "df.drop(columns='Month_Day', inplace=True)\n",
    "\n",
    "# check if it worked\n",
    "print(df.info())\n",
    "df.head()"
   ]
  },
  {
   "cell_type": "markdown",
   "metadata": {},
   "source": [
    "It seems like this worked and the Year column has the data type integer now.\n",
    "\n",
    "For the weirdly formatted value 'Tuesday, December 31, 2019' the code above should also have correctly extracted the year. We can check if it is indeed correct by looking at the respective row."
   ]
  },
  {
   "cell_type": "code",
   "execution_count": 23,
   "metadata": {},
   "outputs": [
    {
     "data": {
      "text/plain": [
       "RIC                               8TRA.DE\n",
       "Year                                 2019\n",
       "ESG Score                     25.62498945\n",
       "Environmental Pillar Score    31.99037548\n",
       "Social Pillar Score           26.39936394\n",
       "Governance Pillar Score         16.971235\n",
       "Name: 15, dtype: object"
      ]
     },
     "execution_count": 23,
     "metadata": {},
     "output_type": "execute_result"
    }
   ],
   "source": [
    "# show row with formerly weirdly formatted value\n",
    "df.iloc[15,]"
   ]
  },
  {
   "cell_type": "markdown",
   "metadata": {},
   "source": [
    "The weird value is formatted correctly, too."
   ]
  },
  {
   "cell_type": "markdown",
   "metadata": {},
   "source": [
    "## 5. Check for duplicates"
   ]
  },
  {
   "cell_type": "markdown",
   "metadata": {},
   "source": [
    "Another error could be duplicated rows."
   ]
  },
  {
   "cell_type": "code",
   "execution_count": 24,
   "metadata": {},
   "outputs": [
    {
     "data": {
      "text/plain": [
       "np.int64(0)"
      ]
     },
     "execution_count": 24,
     "metadata": {},
     "output_type": "execute_result"
    }
   ],
   "source": [
    "# check for duplicates\n",
    "df.duplicated().sum()"
   ]
  },
  {
   "cell_type": "markdown",
   "metadata": {},
   "source": [
    "There do not seem to be any rows that are exactly the same.\n",
    "\n",
    "To see if we lost important information by dropping the month and day, we can check if there are duplicates that have the same RIC and Year and maybe differed only in the month/day."
   ]
  },
  {
   "cell_type": "code",
   "execution_count": 25,
   "metadata": {},
   "outputs": [
    {
     "data": {
      "text/plain": [
       "np.int64(0)"
      ]
     },
     "execution_count": 25,
     "metadata": {},
     "output_type": "execute_result"
    }
   ],
   "source": [
    "# check for duplicates in the RIC & Year column\n",
    "df.duplicated(subset=['RIC', 'Year']).sum()"
   ]
  },
  {
   "cell_type": "markdown",
   "metadata": {},
   "source": [
    "This does not seem to be the case, so we are all good."
   ]
  },
  {
   "cell_type": "markdown",
   "metadata": {},
   "source": [
    "## 6. Clean ESG Score column"
   ]
  },
  {
   "cell_type": "code",
   "execution_count": 26,
   "metadata": {},
   "outputs": [
    {
     "name": "stdout",
     "output_type": "stream",
     "text": [
      "RIC                            object\n",
      "Year                            int64\n",
      "ESG Score                      object\n",
      "Environmental Pillar Score     object\n",
      "Social Pillar Score            object\n",
      "Governance Pillar Score       float64\n",
      "dtype: object\n"
     ]
    }
   ],
   "source": [
    "print(df.dtypes)"
   ]
  },
  {
   "cell_type": "markdown",
   "metadata": {},
   "source": [
    "we see three out of four Score columns seem to be corrupted"
   ]
  }
 ],
 "metadata": {
  "kernelspec": {
   "display_name": "kernel_asda",
   "language": "python",
   "name": "kernel_asda"
  },
  "language_info": {
   "codemirror_mode": {
    "name": "ipython",
    "version": 3
   },
   "file_extension": ".py",
   "mimetype": "text/x-python",
   "name": "python",
   "nbconvert_exporter": "python",
   "pygments_lexer": "ipython3",
   "version": "3.12.7"
  }
 },
 "nbformat": 4,
 "nbformat_minor": 2
}
